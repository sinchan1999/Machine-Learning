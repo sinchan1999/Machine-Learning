{
 "cells": [
  {
   "cell_type": "code",
   "execution_count": 6,
   "metadata": {},
   "outputs": [],
   "source": [
    "import numpy as np\n",
    "import plotly.express as px\n",
    "import plotly.graph_objects as go\n",
    "from sklearn.datasets import make_regression\n",
    "from sklearn.neighbors import KNeighborsRegressor"
   ]
  },
  {
   "cell_type": "code",
   "execution_count": 7,
   "metadata": {},
   "outputs": [],
   "source": [
    "from sklearn.datasets import make_regression\n",
    "X, y = make_regression(n_samples=100, n_features=2, noise=10, random_state=42)\n",
    "\n",
    "from sklearn.model_selection import train_test_split\n",
    "X_train, X_test, y_train, y_test = train_test_split(\n",
    "    X, y, test_size=0.33, random_state=42)\n",
    "\n",
    "\n",
    "\n",
    "# Create a KNN regression model\n",
    "knn = KNeighborsRegressor(n_neighbors=6,algorithm='auto')\n",
    "#knn.fit(X, y) #(X_train,y_train)\n",
    "\n",
    "X=X_train\n",
    "y=y_train\n",
    "\n",
    "knn.fit(X, y)\n",
    "\n",
    "# Predict the values\n",
    "y_pred = knn.predict(X_test)"
   ]
  },
  {
   "cell_type": "markdown",
   "metadata": {},
   "source": [
    "### Accuracy"
   ]
  },
  {
   "cell_type": "code",
   "execution_count": 8,
   "metadata": {},
   "outputs": [
    {
     "name": "stdout",
     "output_type": "stream",
     "text": [
      "0.9358854503441548\n",
      "19.081609374441708\n",
      "615.237645788222\n"
     ]
    }
   ],
   "source": [
    "from sklearn.metrics import r2_score,mean_absolute_error,mean_squared_error\n",
    "\n",
    "print(r2_score(y_test,y_pred))\n",
    "print(mean_absolute_error(y_test,y_pred))\n",
    "print(mean_squared_error(y_test,y_pred))"
   ]
  },
  {
   "cell_type": "markdown",
   "metadata": {},
   "source": [
    "# Visualization\n"
   ]
  },
  {
   "cell_type": "code",
   "execution_count": 9,
   "metadata": {},
   "outputs": [
    {
     "data": {
      "application/vnd.plotly.v1+json": {
       "config": {
        "plotlyServerURL": "https://plot.ly"
       },
       "data": [
        {
         "hovertemplate": "x=%{x}<br>y=%{y}<extra></extra>",
         "legendgroup": "",
         "marker": {
          "color": "blue",
          "opacity": 0.7,
          "size": 8,
          "symbol": "circle"
         },
         "mode": "markers",
         "name": "Data Points",
         "orientation": "v",
         "showlegend": false,
         "type": "scatter",
         "x": [
          -0.11564828238824053,
          -0.883857436201133,
          -0.8895144296255233,
          -1.6074832345612275,
          -0.16128571166600914,
          1.8861859012105302,
          0.9154021177020741,
          -0.8084936028931876,
          -1.4153707420504142,
          -0.4465149520670211,
          0.36139560550841393,
          -1.3281860488984305,
          -0.07201012158033385,
          -0.03471176970524331,
          -0.21967188783751193,
          0.06023020994102644,
          -0.39210815313215763,
          -0.9194242342338032,
          0.47323762457354485,
          0.324083969394795,
          0.29307247329868125,
          0.812525822394198,
          -0.2646568332379561,
          -1.9187712152990415,
          -0.0771017094141042,
          0.6476885381006925,
          0.06752820468792384,
          0.82206015999449,
          0.25988279424842353,
          -0.47917423784528995,
          -0.9080240755212109,
          -0.8392175232226385,
          0.3436182895684614,
          -0.7020530938773524,
          1.8657745111447566,
          0.08704706823817122,
          -0.9905363251306883,
          0.21409374413020396,
          -2.6197451040897444,
          1.477894044741516,
          1.465648768921554,
          -0.4606387709597875,
          -0.19236096478112252,
          0.25049285034587654,
          -1.7249178325130328,
          1.158595579007404,
          -1.5506634310661327,
          -1.236950710878082,
          -0.013497224737933921,
          -0.6769220003059587,
          0.4967141530112327,
          0.058208718445999896,
          0.36163602504763415,
          -1.0623037137261049,
          0.5868570938002703,
          0.01300189187790702,
          -0.5443827245251827,
          1.4027943109360992,
          -1.0128311203344238,
          -0.2234627853258509,
          0.27669079933001905,
          -0.46341769281246226,
          -0.5297602037670388,
          -0.3427145165267695,
          -0.23415337472333597,
          -1.4785219903674274,
          0.09965136508764122
         ],
         "xaxis": "x",
         "y": [
          -48.57864442834877,
          -74.44974807929748,
          -132.59309441398423,
          -127.25682293021114,
          0.5863457807013326,
          173.57870761876504,
          101.3227549561295,
          -120.10660283346274,
          -134.11934104781244,
          27.336310804822066,
          147.50534254595416,
          -120.62125674888892,
          74.35978382933038,
          -98.88682337032702,
          12.230231483124047,
          192.19187619931185,
          -138.76529089359082,
          35.453875974841715,
          29.196561593654078,
          -10.868879858804556,
          -31.05665760127367,
          193.19427370546495,
          173.35130813416046,
          -177.3885788923558,
          21.316689996299658,
          180.18574090591787,
          -93.1022191029749,
          193.11293838581412,
          70.90131484812659,
          -55.33877325735933,
          -172.9309569193817,
          -103.8398343789128,
          -99.80953827343532,
          -68.21388910291924,
          199.93326067633413,
          -22.4374581883771,
          -141.33438030278145,
          -65.36778953373194,
          -160.44108940690646,
          99.93216442221677,
          121.40729410723813,
          48.78259764840635,
          13.206788272181896,
          41.63919551605655,
          -154.464826428606,
          28.480330581247692,
          -145.2735175760722,
          -201.72097176790817,
          -84.38975191399112,
          -21.233290679238102,
          44.1686891351756,
          -85.16238695618426,
          -36.31090173546724,
          -62.521871108156894,
          211.2256582214118,
          106.73277139765257,
          -42.69856943281098,
          8.988791565373559,
          -59.87571381231827,
          36.85504772580037,
          79.32424966181681,
          -70.02095954366601,
          -13.207946151473273,
          -79.17437858811974,
          -51.66481124434402,
          -187.7646566431566,
          -12.22864096706293
         ],
         "yaxis": "y"
        },
        {
         "line": {
          "color": "red",
          "width": 3
         },
         "mode": "lines",
         "name": "Regressor Line",
         "type": "scatter",
         "x": [
          -0.11564828238824053,
          -0.883857436201133,
          -0.8895144296255233,
          -1.6074832345612275,
          -0.16128571166600914,
          1.8861859012105302,
          0.9154021177020741,
          -0.8084936028931876,
          -1.4153707420504142,
          -0.4465149520670211,
          0.36139560550841393,
          -1.3281860488984305,
          -0.07201012158033385,
          -0.03471176970524331,
          -0.21967188783751193,
          0.06023020994102644,
          -0.39210815313215763,
          -0.9194242342338032,
          0.47323762457354485,
          0.324083969394795,
          0.29307247329868125,
          0.812525822394198,
          -0.2646568332379561,
          -1.9187712152990415,
          -0.0771017094141042,
          0.6476885381006925,
          0.06752820468792384,
          0.82206015999449,
          0.25988279424842353,
          -0.47917423784528995,
          -0.9080240755212109,
          -0.8392175232226385,
          0.3436182895684614,
          -0.7020530938773524,
          1.8657745111447566,
          0.08704706823817122,
          -0.9905363251306883,
          0.21409374413020396,
          -2.6197451040897444,
          1.477894044741516,
          1.465648768921554,
          -0.4606387709597875,
          -0.19236096478112252,
          0.25049285034587654,
          -1.7249178325130328,
          1.158595579007404,
          -1.5506634310661327,
          -1.236950710878082,
          -0.013497224737933921,
          -0.6769220003059587,
          0.4967141530112327,
          0.058208718445999896,
          0.36163602504763415,
          -1.0623037137261049,
          0.5868570938002703,
          0.01300189187790702,
          -0.5443827245251827,
          1.4027943109360992,
          -1.0128311203344238,
          -0.2234627853258509,
          0.27669079933001905,
          -0.46341769281246226,
          -0.5297602037670388,
          -0.3427145165267695,
          -0.23415337472333597,
          -1.4785219903674274,
          0.09965136508764122
         ],
         "y": [
          -58.65163776322882,
          7.094449827289407,
          105.14536886395057,
          -32.512627499547825,
          61.09212761849318,
          61.09212761849318,
          161.60367199497495,
          -96.84900802170738,
          -159.4084438134458,
          -77.65978389301847,
          65.9182463779248,
          -96.84900802170738,
          109.83486719813307,
          -45.66452321054917,
          106.14841433151302,
          46.0599393650563,
          -13.453318882993017,
          -33.38104751736899,
          -78.19747839344403,
          26.646760982748344,
          -98.33315504249082,
          5.519910628225969,
          -33.519534657382785,
          -65.5465331352526,
          -93.14240656985027,
          -137.3452526588853,
          -96.84900802170738,
          25.01904504901152,
          137.47693245896497,
          128.73894610390164,
          -21.225423185848772,
          -32.512627499547825,
          85.94641833478015
         ]
        }
       ],
       "layout": {
        "font": {
         "size": 14
        },
        "height": 600,
        "legend": {
         "font": {
          "size": 14
         },
         "orientation": "h",
         "tracegroupgap": 0,
         "x": 1,
         "xanchor": "right",
         "y": 1.02,
         "yanchor": "bottom"
        },
        "margin": {
         "b": 50,
         "l": 50,
         "r": 50,
         "t": 100
        },
        "paper_bgcolor": "white",
        "plot_bgcolor": "white",
        "template": {
         "data": {
          "bar": [
           {
            "error_x": {
             "color": "#2a3f5f"
            },
            "error_y": {
             "color": "#2a3f5f"
            },
            "marker": {
             "line": {
              "color": "#E5ECF6",
              "width": 0.5
             },
             "pattern": {
              "fillmode": "overlay",
              "size": 10,
              "solidity": 0.2
             }
            },
            "type": "bar"
           }
          ],
          "barpolar": [
           {
            "marker": {
             "line": {
              "color": "#E5ECF6",
              "width": 0.5
             },
             "pattern": {
              "fillmode": "overlay",
              "size": 10,
              "solidity": 0.2
             }
            },
            "type": "barpolar"
           }
          ],
          "carpet": [
           {
            "aaxis": {
             "endlinecolor": "#2a3f5f",
             "gridcolor": "white",
             "linecolor": "white",
             "minorgridcolor": "white",
             "startlinecolor": "#2a3f5f"
            },
            "baxis": {
             "endlinecolor": "#2a3f5f",
             "gridcolor": "white",
             "linecolor": "white",
             "minorgridcolor": "white",
             "startlinecolor": "#2a3f5f"
            },
            "type": "carpet"
           }
          ],
          "choropleth": [
           {
            "colorbar": {
             "outlinewidth": 0,
             "ticks": ""
            },
            "type": "choropleth"
           }
          ],
          "contour": [
           {
            "colorbar": {
             "outlinewidth": 0,
             "ticks": ""
            },
            "colorscale": [
             [
              0,
              "#0d0887"
             ],
             [
              0.1111111111111111,
              "#46039f"
             ],
             [
              0.2222222222222222,
              "#7201a8"
             ],
             [
              0.3333333333333333,
              "#9c179e"
             ],
             [
              0.4444444444444444,
              "#bd3786"
             ],
             [
              0.5555555555555556,
              "#d8576b"
             ],
             [
              0.6666666666666666,
              "#ed7953"
             ],
             [
              0.7777777777777778,
              "#fb9f3a"
             ],
             [
              0.8888888888888888,
              "#fdca26"
             ],
             [
              1,
              "#f0f921"
             ]
            ],
            "type": "contour"
           }
          ],
          "contourcarpet": [
           {
            "colorbar": {
             "outlinewidth": 0,
             "ticks": ""
            },
            "type": "contourcarpet"
           }
          ],
          "heatmap": [
           {
            "colorbar": {
             "outlinewidth": 0,
             "ticks": ""
            },
            "colorscale": [
             [
              0,
              "#0d0887"
             ],
             [
              0.1111111111111111,
              "#46039f"
             ],
             [
              0.2222222222222222,
              "#7201a8"
             ],
             [
              0.3333333333333333,
              "#9c179e"
             ],
             [
              0.4444444444444444,
              "#bd3786"
             ],
             [
              0.5555555555555556,
              "#d8576b"
             ],
             [
              0.6666666666666666,
              "#ed7953"
             ],
             [
              0.7777777777777778,
              "#fb9f3a"
             ],
             [
              0.8888888888888888,
              "#fdca26"
             ],
             [
              1,
              "#f0f921"
             ]
            ],
            "type": "heatmap"
           }
          ],
          "heatmapgl": [
           {
            "colorbar": {
             "outlinewidth": 0,
             "ticks": ""
            },
            "colorscale": [
             [
              0,
              "#0d0887"
             ],
             [
              0.1111111111111111,
              "#46039f"
             ],
             [
              0.2222222222222222,
              "#7201a8"
             ],
             [
              0.3333333333333333,
              "#9c179e"
             ],
             [
              0.4444444444444444,
              "#bd3786"
             ],
             [
              0.5555555555555556,
              "#d8576b"
             ],
             [
              0.6666666666666666,
              "#ed7953"
             ],
             [
              0.7777777777777778,
              "#fb9f3a"
             ],
             [
              0.8888888888888888,
              "#fdca26"
             ],
             [
              1,
              "#f0f921"
             ]
            ],
            "type": "heatmapgl"
           }
          ],
          "histogram": [
           {
            "marker": {
             "pattern": {
              "fillmode": "overlay",
              "size": 10,
              "solidity": 0.2
             }
            },
            "type": "histogram"
           }
          ],
          "histogram2d": [
           {
            "colorbar": {
             "outlinewidth": 0,
             "ticks": ""
            },
            "colorscale": [
             [
              0,
              "#0d0887"
             ],
             [
              0.1111111111111111,
              "#46039f"
             ],
             [
              0.2222222222222222,
              "#7201a8"
             ],
             [
              0.3333333333333333,
              "#9c179e"
             ],
             [
              0.4444444444444444,
              "#bd3786"
             ],
             [
              0.5555555555555556,
              "#d8576b"
             ],
             [
              0.6666666666666666,
              "#ed7953"
             ],
             [
              0.7777777777777778,
              "#fb9f3a"
             ],
             [
              0.8888888888888888,
              "#fdca26"
             ],
             [
              1,
              "#f0f921"
             ]
            ],
            "type": "histogram2d"
           }
          ],
          "histogram2dcontour": [
           {
            "colorbar": {
             "outlinewidth": 0,
             "ticks": ""
            },
            "colorscale": [
             [
              0,
              "#0d0887"
             ],
             [
              0.1111111111111111,
              "#46039f"
             ],
             [
              0.2222222222222222,
              "#7201a8"
             ],
             [
              0.3333333333333333,
              "#9c179e"
             ],
             [
              0.4444444444444444,
              "#bd3786"
             ],
             [
              0.5555555555555556,
              "#d8576b"
             ],
             [
              0.6666666666666666,
              "#ed7953"
             ],
             [
              0.7777777777777778,
              "#fb9f3a"
             ],
             [
              0.8888888888888888,
              "#fdca26"
             ],
             [
              1,
              "#f0f921"
             ]
            ],
            "type": "histogram2dcontour"
           }
          ],
          "mesh3d": [
           {
            "colorbar": {
             "outlinewidth": 0,
             "ticks": ""
            },
            "type": "mesh3d"
           }
          ],
          "parcoords": [
           {
            "line": {
             "colorbar": {
              "outlinewidth": 0,
              "ticks": ""
             }
            },
            "type": "parcoords"
           }
          ],
          "pie": [
           {
            "automargin": true,
            "type": "pie"
           }
          ],
          "scatter": [
           {
            "fillpattern": {
             "fillmode": "overlay",
             "size": 10,
             "solidity": 0.2
            },
            "type": "scatter"
           }
          ],
          "scatter3d": [
           {
            "line": {
             "colorbar": {
              "outlinewidth": 0,
              "ticks": ""
             }
            },
            "marker": {
             "colorbar": {
              "outlinewidth": 0,
              "ticks": ""
             }
            },
            "type": "scatter3d"
           }
          ],
          "scattercarpet": [
           {
            "marker": {
             "colorbar": {
              "outlinewidth": 0,
              "ticks": ""
             }
            },
            "type": "scattercarpet"
           }
          ],
          "scattergeo": [
           {
            "marker": {
             "colorbar": {
              "outlinewidth": 0,
              "ticks": ""
             }
            },
            "type": "scattergeo"
           }
          ],
          "scattergl": [
           {
            "marker": {
             "colorbar": {
              "outlinewidth": 0,
              "ticks": ""
             }
            },
            "type": "scattergl"
           }
          ],
          "scattermapbox": [
           {
            "marker": {
             "colorbar": {
              "outlinewidth": 0,
              "ticks": ""
             }
            },
            "type": "scattermapbox"
           }
          ],
          "scatterpolar": [
           {
            "marker": {
             "colorbar": {
              "outlinewidth": 0,
              "ticks": ""
             }
            },
            "type": "scatterpolar"
           }
          ],
          "scatterpolargl": [
           {
            "marker": {
             "colorbar": {
              "outlinewidth": 0,
              "ticks": ""
             }
            },
            "type": "scatterpolargl"
           }
          ],
          "scatterternary": [
           {
            "marker": {
             "colorbar": {
              "outlinewidth": 0,
              "ticks": ""
             }
            },
            "type": "scatterternary"
           }
          ],
          "surface": [
           {
            "colorbar": {
             "outlinewidth": 0,
             "ticks": ""
            },
            "colorscale": [
             [
              0,
              "#0d0887"
             ],
             [
              0.1111111111111111,
              "#46039f"
             ],
             [
              0.2222222222222222,
              "#7201a8"
             ],
             [
              0.3333333333333333,
              "#9c179e"
             ],
             [
              0.4444444444444444,
              "#bd3786"
             ],
             [
              0.5555555555555556,
              "#d8576b"
             ],
             [
              0.6666666666666666,
              "#ed7953"
             ],
             [
              0.7777777777777778,
              "#fb9f3a"
             ],
             [
              0.8888888888888888,
              "#fdca26"
             ],
             [
              1,
              "#f0f921"
             ]
            ],
            "type": "surface"
           }
          ],
          "table": [
           {
            "cells": {
             "fill": {
              "color": "#EBF0F8"
             },
             "line": {
              "color": "white"
             }
            },
            "header": {
             "fill": {
              "color": "#C8D4E3"
             },
             "line": {
              "color": "white"
             }
            },
            "type": "table"
           }
          ]
         },
         "layout": {
          "annotationdefaults": {
           "arrowcolor": "#2a3f5f",
           "arrowhead": 0,
           "arrowwidth": 1
          },
          "autotypenumbers": "strict",
          "coloraxis": {
           "colorbar": {
            "outlinewidth": 0,
            "ticks": ""
           }
          },
          "colorscale": {
           "diverging": [
            [
             0,
             "#8e0152"
            ],
            [
             0.1,
             "#c51b7d"
            ],
            [
             0.2,
             "#de77ae"
            ],
            [
             0.3,
             "#f1b6da"
            ],
            [
             0.4,
             "#fde0ef"
            ],
            [
             0.5,
             "#f7f7f7"
            ],
            [
             0.6,
             "#e6f5d0"
            ],
            [
             0.7,
             "#b8e186"
            ],
            [
             0.8,
             "#7fbc41"
            ],
            [
             0.9,
             "#4d9221"
            ],
            [
             1,
             "#276419"
            ]
           ],
           "sequential": [
            [
             0,
             "#0d0887"
            ],
            [
             0.1111111111111111,
             "#46039f"
            ],
            [
             0.2222222222222222,
             "#7201a8"
            ],
            [
             0.3333333333333333,
             "#9c179e"
            ],
            [
             0.4444444444444444,
             "#bd3786"
            ],
            [
             0.5555555555555556,
             "#d8576b"
            ],
            [
             0.6666666666666666,
             "#ed7953"
            ],
            [
             0.7777777777777778,
             "#fb9f3a"
            ],
            [
             0.8888888888888888,
             "#fdca26"
            ],
            [
             1,
             "#f0f921"
            ]
           ],
           "sequentialminus": [
            [
             0,
             "#0d0887"
            ],
            [
             0.1111111111111111,
             "#46039f"
            ],
            [
             0.2222222222222222,
             "#7201a8"
            ],
            [
             0.3333333333333333,
             "#9c179e"
            ],
            [
             0.4444444444444444,
             "#bd3786"
            ],
            [
             0.5555555555555556,
             "#d8576b"
            ],
            [
             0.6666666666666666,
             "#ed7953"
            ],
            [
             0.7777777777777778,
             "#fb9f3a"
            ],
            [
             0.8888888888888888,
             "#fdca26"
            ],
            [
             1,
             "#f0f921"
            ]
           ]
          },
          "colorway": [
           "#636efa",
           "#EF553B",
           "#00cc96",
           "#ab63fa",
           "#FFA15A",
           "#19d3f3",
           "#FF6692",
           "#B6E880",
           "#FF97FF",
           "#FECB52"
          ],
          "font": {
           "color": "#2a3f5f"
          },
          "geo": {
           "bgcolor": "white",
           "lakecolor": "white",
           "landcolor": "#E5ECF6",
           "showlakes": true,
           "showland": true,
           "subunitcolor": "white"
          },
          "hoverlabel": {
           "align": "left"
          },
          "hovermode": "closest",
          "mapbox": {
           "style": "light"
          },
          "paper_bgcolor": "white",
          "plot_bgcolor": "#E5ECF6",
          "polar": {
           "angularaxis": {
            "gridcolor": "white",
            "linecolor": "white",
            "ticks": ""
           },
           "bgcolor": "#E5ECF6",
           "radialaxis": {
            "gridcolor": "white",
            "linecolor": "white",
            "ticks": ""
           }
          },
          "scene": {
           "xaxis": {
            "backgroundcolor": "#E5ECF6",
            "gridcolor": "white",
            "gridwidth": 2,
            "linecolor": "white",
            "showbackground": true,
            "ticks": "",
            "zerolinecolor": "white"
           },
           "yaxis": {
            "backgroundcolor": "#E5ECF6",
            "gridcolor": "white",
            "gridwidth": 2,
            "linecolor": "white",
            "showbackground": true,
            "ticks": "",
            "zerolinecolor": "white"
           },
           "zaxis": {
            "backgroundcolor": "#E5ECF6",
            "gridcolor": "white",
            "gridwidth": 2,
            "linecolor": "white",
            "showbackground": true,
            "ticks": "",
            "zerolinecolor": "white"
           }
          },
          "shapedefaults": {
           "line": {
            "color": "#2a3f5f"
           }
          },
          "ternary": {
           "aaxis": {
            "gridcolor": "white",
            "linecolor": "white",
            "ticks": ""
           },
           "baxis": {
            "gridcolor": "white",
            "linecolor": "white",
            "ticks": ""
           },
           "bgcolor": "#E5ECF6",
           "caxis": {
            "gridcolor": "white",
            "linecolor": "white",
            "ticks": ""
           }
          },
          "title": {
           "x": 0.05
          },
          "xaxis": {
           "automargin": true,
           "gridcolor": "white",
           "linecolor": "white",
           "ticks": "",
           "title": {
            "standoff": 15
           },
           "zerolinecolor": "white",
           "zerolinewidth": 2
          },
          "yaxis": {
           "automargin": true,
           "gridcolor": "white",
           "linecolor": "white",
           "ticks": "",
           "title": {
            "standoff": 15
           },
           "zerolinecolor": "white",
           "zerolinewidth": 2
          }
         }
        },
        "title": {
         "text": "KNN Regression"
        },
        "width": 800,
        "xaxis": {
         "anchor": "y",
         "domain": [
          0,
          1
         ],
         "title": {
          "text": "Feature: Input Variable"
         }
        },
        "yaxis": {
         "anchor": "x",
         "domain": [
          0,
          1
         ],
         "title": {
          "text": "Target: Output Variable"
         }
        }
       }
      }
     },
     "metadata": {},
     "output_type": "display_data"
    }
   ],
   "source": [
    "# Create a Plotly figure\n",
    "fig = px.scatter(x=X[:, 0], y=y, opacity=0.7, title=\"KNN Regression\")\n",
    "\n",
    "# Update the name of the trace\n",
    "fig.update_traces(name=\"Data Points\", marker=dict(size=8, color=\"blue\", opacity=0.7))\n",
    "\n",
    "# Add the regressor line\n",
    "fig.add_trace(go.Scatter(x=X[:, 0], y=y_pred, mode='lines', name=\"Regressor Line\", line=dict(color=\"red\", width=3)))\n",
    "\n",
    "# Add legend and other details\n",
    "fig.update_layout(\n",
    "    legend=dict(\n",
    "        orientation=\"h\",\n",
    "        yanchor=\"bottom\",\n",
    "        y=1.02,\n",
    "        xanchor=\"right\",\n",
    "        x=1,\n",
    "        font=dict(size=14)\n",
    "    ),\n",
    "    xaxis_title=\"Feature: Input Variable\",\n",
    "    yaxis_title=\"Target: Output Variable\",\n",
    "    font_size=14,\n",
    "    width=800,\n",
    "    height=600,\n",
    "    margin=dict(l=50, r=50, t=100, b=50),\n",
    "    plot_bgcolor=\"white\",\n",
    "    paper_bgcolor=\"white\"\n",
    ")\n",
    "\n",
    "# Show the figure\n",
    "fig.show()"
   ]
  },
  {
   "cell_type": "code",
   "execution_count": null,
   "metadata": {},
   "outputs": [],
   "source": []
  }
 ],
 "metadata": {
  "kernelspec": {
   "display_name": "Python 3",
   "language": "python",
   "name": "python3"
  },
  "language_info": {
   "codemirror_mode": {
    "name": "ipython",
    "version": 3
   },
   "file_extension": ".py",
   "mimetype": "text/x-python",
   "name": "python",
   "nbconvert_exporter": "python",
   "pygments_lexer": "ipython3",
   "version": "3.12.5"
  }
 },
 "nbformat": 4,
 "nbformat_minor": 2
}
